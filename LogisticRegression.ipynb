{
 "cells": [
  {
   "cell_type": "markdown",
   "id": "d2c7f1be-5adc-497f-8a88-a63ce44d9838",
   "metadata": {},
   "source": [
    "# Logistic Regression"
   ]
  },
  {
   "cell_type": "markdown",
   "id": "0523b0cb-53b5-4f65-8470-2b930cfc9a54",
   "metadata": {},
   "source": [
    "### Classification vs. Regression"
   ]
  },
  {
   "cell_type": "markdown",
   "id": "0e3c5702-dca8-417a-85a8-6fc3f4295a1b",
   "metadata": {},
   "source": [
    "---\n",
    "- In the previous unit, you learned about one of the supervised learning tasks called  linear regression where the goal was to predict a continuous real value (Price of house ) .\n",
    "  \n",
    "- In this unit, you will learn about another type of supervised learning task called classification.\n",
    "\n",
    "- In classification, we predict a discrete value .\n",
    "  \n",
    "-  We are actually predicting which class a sample belongs to based on its features. For example, predicting if a person has a disease or not based on his health information .Here, having the disease can be represented using a discrete value 1 and not having the disease can be represented using another discrete value of 0.\n",
    "\n",
    "Similarly, here are some other simple examples of the classification problem :\n",
    "\n",
    "  - **Predicting if an image is of a cat (0) or a dog (1),**  \n",
    "  - **Predicting if a car will get sold (1) or not (0) based on the features and details of car,**  \n",
    "  - **Classifying an email as spam (1) or not (0)**\n",
    "  \n",
    "#### Logistic regression is one of the basic classification algorithm.  "
   ]
  },
  {
   "cell_type": "code",
   "execution_count": null,
   "id": "fd3d6d7b-b122-4167-b1df-a211759fac09",
   "metadata": {},
   "outputs": [],
   "source": []
  },
  {
   "cell_type": "markdown",
   "id": "9b7b0f4c-7d77-409e-90a6-e421906f09e4",
   "metadata": {},
   "source": [
    "To better understand classification problems and logistic regression, we will start with a simple example. The example contains the SAT score of the students as a feature $x$ and a corresponding label $y$ with values 1 or 0 indicating the admission of the particular student to a university.\n",
    " \n",
    "Here,\n",
    "  \n",
    "* 1 - The student gets admission\n",
    " \n",
    "* 0 - The student does not get admission.\n",
    "\n"
   ]
  },
  {
   "cell_type": "markdown",
   "id": "8a70efd0-66c8-4438-baac-0cbf1a7642f8",
   "metadata": {},
   "source": [
    "### Imports "
   ]
  },
  {
   "cell_type": "code",
   "execution_count": 1,
   "id": "de8e5d84-f0ac-4920-bac8-d530f806cb9d",
   "metadata": {},
   "outputs": [],
   "source": [
    "\n",
    "import pandas as pd \n",
    "import numpy as np \n",
    "import matplotlib.pyplot as plt\n",
    "\n"
   ]
  },
  {
   "cell_type": "markdown",
   "id": "e7387c21-a231-4ce3-9da2-6e94aac74e5c",
   "metadata": {},
   "source": [
    "### Data"
   ]
  },
  {
   "cell_type": "code",
   "execution_count": 2,
   "id": "19490ce6-0966-4808-bc5e-74af94af054e",
   "metadata": {},
   "outputs": [
    {
     "data": {
      "text/html": [
       "<div>\n",
       "<style scoped>\n",
       "    .dataframe tbody tr th:only-of-type {\n",
       "        vertical-align: middle;\n",
       "    }\n",
       "\n",
       "    .dataframe tbody tr th {\n",
       "        vertical-align: top;\n",
       "    }\n",
       "\n",
       "    .dataframe thead th {\n",
       "        text-align: right;\n",
       "    }\n",
       "</style>\n",
       "<table border=\"1\" class=\"dataframe\">\n",
       "  <thead>\n",
       "    <tr style=\"text-align: right;\">\n",
       "      <th></th>\n",
       "      <th>SAT Score</th>\n",
       "      <th>Admitted</th>\n",
       "    </tr>\n",
       "  </thead>\n",
       "  <tbody>\n",
       "    <tr>\n",
       "      <th>0</th>\n",
       "      <td>1102</td>\n",
       "      <td>0</td>\n",
       "    </tr>\n",
       "    <tr>\n",
       "      <th>1</th>\n",
       "      <td>1435</td>\n",
       "      <td>1</td>\n",
       "    </tr>\n",
       "    <tr>\n",
       "      <th>2</th>\n",
       "      <td>1270</td>\n",
       "      <td>0</td>\n",
       "    </tr>\n",
       "    <tr>\n",
       "      <th>3</th>\n",
       "      <td>1106</td>\n",
       "      <td>0</td>\n",
       "    </tr>\n",
       "    <tr>\n",
       "      <th>4</th>\n",
       "      <td>1071</td>\n",
       "      <td>0</td>\n",
       "    </tr>\n",
       "  </tbody>\n",
       "</table>\n",
       "</div>"
      ],
      "text/plain": [
       "   SAT Score  Admitted\n",
       "0       1102         0\n",
       "1       1435         1\n",
       "2       1270         0\n",
       "3       1106         0\n",
       "4       1071         0"
      ]
     },
     "execution_count": 2,
     "metadata": {},
     "output_type": "execute_result"
    }
   ],
   "source": [
    "\n",
    "\n",
    "data_path = \"https://drive.google.com/uc?export=download&id=1rLEMxfeaQc64RPiPDzXBy7ipI-R-kIlI\"\n",
    "\n",
    "#data_path= \"https://github.com/Aashishrimal/Logistic-Regression-/\"\n",
    "\n",
    "# Read the CSV data from the link\n",
    "data_frame = pd.read_csv(data_path)\n",
    "\n",
    "# Printfirst 5 samples from the DataFrame\n",
    "data_frame.head()\n"
   ]
  },
  {
   "cell_type": "markdown",
   "id": "6f1c033f-6ac0-4eb5-afa8-31a4c386253c",
   "metadata": {},
   "source": [
    "  \n",
    "Based on the dataset generated above, the task here is to predict if a student gets admission or not given their SAT Score. \n",
    "Initially lets plot the data ."
   ]
  },
  {
   "cell_type": "markdown",
   "id": "a6b88249-83ba-4ac1-ab64-95fd1585b178",
   "metadata": {},
   "source": [
    "### Data visulization "
   ]
  },
  {
   "cell_type": "code",
   "execution_count": 3,
   "id": "2022bd98-e9c6-4768-991f-1ef19a1491e9",
   "metadata": {
    "scrolled": true
   },
   "outputs": [
    {
     "data": {
      "image/png": "[encoded data removed]",
      "text/plain": [
       "<Figure size 640x480 with 1 Axes>"
      ]
     },
     "metadata": {},
     "output_type": "display_data"
    }
   ],
   "source": [
    "map_color = np.array(['r', 'b'])\n",
    "\n",
    "x = data_frame.iloc[:, :-1].values\n",
    "y = data_frame.iloc[:, 1].values\n",
    "\n",
    "plt.scatter(data_frame['SAT Score'], data_frame['Admitted'], c=map_color[y])\n",
    "\n",
    "plt.title('SAT Score and Admission')\n",
    "plt.xlabel('SAT Score')\n",
    "plt.ylabel('Gets Admission - Yes or No')\n",
    "plt.savefig('sigmoid_data.png')\n",
    "plt.show()\n",
    "\n"
   ]
  },
  {
   "cell_type": "markdown",
   "id": "8ae4dc34-82ff-4007-860a-36ed9a37bd78",
   "metadata": {},
   "source": [
    "Initially lets see a function named Sigmoid Function.\n",
    "\n",
    "\n",
    "$$f(z) = \\frac 1 {(1+ e^{-z})} $$ $$    \n",
    "       = \\frac{e^z}{e^z + 1}  $$\n",
    "\n",
    "\n",
    " \n",
    "where $z$ is any input real number. We can plot $f(z)$ as follows:"
   ]
  },
  {
   "cell_type": "markdown",
   "id": "4e7a751c-6014-43b8-b616-73d90618a288",
   "metadata": {},
   "source": [
    "**Initially lets visualize a  function named Sigmoid function :**\n",
    "\n",
    "<a data-flickr-embed=\"true\" href=\"https://www.flickr.com/photos/200947226@N07/53845358796/in/dateposted-public/\" title=\"sigmoid\"><img src=\"https://live.staticflickr.com/65535/53845358796_f8714a4857_b.jpg\" width=\"1024\" height=\"307\" alt=\"sigmoid\"/></a><script async src=\"//embedr.flickr.com/assets/client-code.js\" charset=\"utf-8\"></script>"
   ]
  },
  {
   "cell_type": "markdown",
   "id": "46304d6b-5d3f-43a1-bee2-1db2e8ead4fb",
   "metadata": {},
   "source": [
    "**Can you imagine fitting this graph  into the data mentioned in figure .?**"
   ]
  },
  {
   "cell_type": "markdown",
   "id": "8875c5f2-9f5f-4927-bdb3-e1dca15b75fd",
   "metadata": {},
   "source": [
    "<div style=\"display: flex; justify-content: space-between;\">\n",
    "  <div style=\"margin-right: 10px;\">\n",
    "    <a data-flickr-embed=\"true\" href=\"https://www.flickr.com/photos/200947226@N07/53847194057/in/dateposted-public/\" title=\"sigmoid_data\">\n",
    "      <img src=\"https://live.staticflickr.com/65535/53847194057_fd1cf44f2e_z.jpg\" width=\"320\" height=\"240\" alt=\"sigmoid_data\"/>\n",
    "    </a>\n",
    "    <script async src=\"//embedr.flickr.com/assets/client-code.js\" charset=\"utf-8\"></script>\n",
    "  </div>\n",
    "  <div>\n",
    "    <a data-flickr-embed=\"true\" href=\"https://www.flickr.com/photos/200947226@N07/53845358796/in/dateposted-public/\" title=\"sigmoid\">\n",
    "      <img src=\"https://live.staticflickr.com/65535/53845358796_f8714a4857_b.jpg\" width=\"790\" height=\"240\" alt=\"sigmoid\"/>\n",
    "    </a>\n",
    "    <script async src=\"//embedr.flickr.com/assets/client-code.js\" charset=\"utf-8\"></script>\n",
    "  </div>\n",
    "</div>\n"
   ]
  },
  {
   "cell_type": "markdown",
   "id": "caf35c5e-27c4-4830-9f66-2d98c91ac117",
   "metadata": {},
   "source": [
    "**If we   shift the sigmoid graph 1300 unit towards right , it might fit into the dataset .**\n",
    "### Lets visualize this ."
   ]
  },
  {
   "cell_type": "markdown",
   "id": "92553f0a-136d-47dc-8100-6b6ac163178f",
   "metadata": {},
   "source": [
    "### The code mentioned below is intended to be hidden . "
   ]
  },
  {
   "cell_type": "code",
   "execution_count": 1,
   "id": "cf0dc007-8ffc-42b1-a5b4-62e7f0c8929d",
   "metadata": {},
   "outputs": [
    {
     "name": "stdout",
     "output_type": "stream",
     "text": [
      "      Weight  Obesity\n",
      "0  41.075178      1.0\n",
      "1  39.216839      1.0\n",
      "2  15.562086      1.0\n",
      "3  16.108712      0.0\n",
      "4  14.500353      0.0\n"
     ]
    },
    {
     "data": {
      "application/vnd.jupyter.widget-view+json": {
       "model_id": "fd9f9e25c1554d3e94ccd7154559a7fd",
       "version_major": 2,
       "version_minor": 0
      },
      "text/plain": [
       "VBox(children=(interactive(children=(FloatSlider(value=0.0, description=' (m):', max=8.0, min=-4.0, step=0.01)…"
      ]
     },
     "execution_count": 1,
     "metadata": {},
     "output_type": "execute_result"
    }
   ],
   "source": [
    "\n",
    "import numpy as np\n",
    "import pandas as pd\n",
    "import plotly.graph_objs as go\n",
    "from ipywidgets import interactive, FloatSlider, VBox\n",
    "\n",
    "# Generate synthetic data with sparse and dense regions around a decision point\n",
    "np.random.seed(0)\n",
    "\n",
    "# Parameters\n",
    "n_samples_sparse = 20  # Number of samples around the decision point\n",
    "n_samples_dense = 80   # Number of samples further away\n",
    "\n",
    "# Generate sparse data around the decision point (30 grams)\n",
    "weight_sparse_left = np.random.normal(28, 0.5, n_samples_sparse // 2)\n",
    "weight_sparse_right = np.random.normal(32, 0.5, n_samples_sparse // 2)\n",
    "\n",
    "# Generate dense data further away from the decision point\n",
    "weight_dense_left = np.random.normal(20, 3, n_samples_dense // 2)\n",
    "weight_dense_right = np.random.normal(40, 3, n_samples_dense // 2)\n",
    "\n",
    "# Combine sparse and dense data\n",
    "weights = np.concatenate([weight_sparse_left, weight_sparse_right, weight_dense_left, weight_dense_right])\n",
    "obesity_status = np.concatenate([np.zeros(n_samples_sparse // 2), np.ones(n_samples_sparse // 2), \n",
    "                                 np.zeros(n_samples_dense // 2), np.ones(n_samples_dense // 2)])\n",
    "\n",
    "# Add noise to the weights\n",
    "noise = np.random.normal(0, 0.5, len(weights))\n",
    "weights_noisy = weights + noise\n",
    "\n",
    "# Add noise to the obesity status\n",
    "flip_prob = 0.05  # Probability of flipping the obesity status\n",
    "flip = np.random.rand(len(obesity_status)) < flip_prob\n",
    "obesity_status_noisy = np.abs(obesity_status - flip)\n",
    "\n",
    "# Shuffle the data\n",
    "shuffle_idx = np.random.permutation(len(weights_noisy))\n",
    "weights_noisy = weights_noisy[shuffle_idx]\n",
    "obesity_status_noisy = obesity_status_noisy[shuffle_idx]\n",
    "\n",
    "# Convert to pandas DataFrame for consistency with previous examples\n",
    "data_frame = pd.DataFrame({'Weight': weights_noisy, 'Obesity': obesity_status_noisy})\n",
    "\n",
    "# Print the first few rows to inspect the data\n",
    "print(data_frame.head())\n",
    "\n",
    "# Define the logistic function\n",
    "def logistic_function(x, m, c):\n",
    "    return 1 / (1 + np.exp(-(m * x + c)))\n",
    "\n",
    "# Function to transform slider value to desired range for m\n",
    "def transform_m(val):\n",
    "    if val < 0:\n",
    "        return -2 + (val + 2)**2 / 2\n",
    "    elif val <= 4:\n",
    "        return val\n",
    "    else:\n",
    "        return 4 + (val - 4)**2 / 2\n",
    "\n",
    "# Function to update the graph\n",
    "def update_graph(slider_m, c):\n",
    "    m = transform_m(slider_m)\n",
    "    x = np.linspace(-1000, 1000, 2000)\n",
    "    y_pred = logistic_function(x, m, c)\n",
    "    \n",
    "    trace_model = go.Scatter(x=x, y=y_pred, mode='lines', name='Logistic Regression')\n",
    "    trace_data = go.Scatter(x=data_frame['Weight'], y=data_frame['Obesity'], mode='markers', name='Data')\n",
    "    \n",
    "    layout = go.Layout(title='Interactive Logistic Regression', \n",
    "                       xaxis=dict(title='Mouse Weight (grams)', range=[-10, 50], autorange=False), \n",
    "                       yaxis=dict(title='Probability of Obesity', range=[-0.1, 1.1], fixedrange=True), \n",
    "                       showlegend=True)\n",
    "    \n",
    "    fig = go.Figure(data=[trace_model, trace_data], layout=layout)\n",
    "    fig.show()\n",
    "\n",
    "# Create a custom slider for m\n",
    "slider_m = FloatSlider(value=0, min=-4, max=8, step=0.01, description=' (m):')\n",
    "c_slider = FloatSlider(value=0, min=-60, max=60, step=0.1, description='(c):')\n",
    "\n",
    "# Create interactive widget\n",
    "interactive_plot = interactive(update_graph, slider_m=slider_m, c=c_slider)\n",
    "\n",
    "# Display the interactive widget\n",
    "VBox([interactive_plot])\n"
   ]
  },
  {
   "cell_type": "markdown",
   "id": "1419d433-4d04-4900-b8cf-29f3c4ccc168",
   "metadata": {},
   "source": [
    "#### From the visualization above we get the following idea :  \n",
    "#### We can make  change in value of m and c so as to best fit the sigmoid curve into the data.\n"
   ]
  },
  {
   "cell_type": "markdown",
   "id": "53cf87b6-f376-45c1-b44f-dd6bf59744b6",
   "metadata": {},
   "source": [
    "**Lets make some changes in the sigmoid function.**\n",
    "\n",
    "\n",
    "****$$f(z) = \\frac 1 {(1+ e^{-z})} $$ $$    \n",
    "       = \\frac{e^z}{e^z + 1}  $$****\n",
    "\n",
    "\n",
    "**On multiplying z by m**\n",
    "\n",
    "\n",
    "****$$f(z) = \\frac 1 {(1+ e^{-mz})} $$ $$    \n",
    "       = \\frac{e^{mz}}{e^{mz} + 1}  $$****\n",
    "\n",
    "\n"
   ]
  },
  {
   "cell_type": "markdown",
   "id": "bf50f349-8923-45a5-83e3-27bad50d105f",
   "metadata": {},
   "source": [
    "**Lets visualize the change in the graph on multiplying  z by m .**  \n",
    "Add images showing for value of m = 1 and m =5 "
   ]
  },
  {
   "cell_type": "markdown",
   "id": "ad7e0c96-8680-462b-bdd2-d8ffee429bb1",
   "metadata": {},
   "source": [
    "***Now lets see what happens if we add c to m.z    \n",
    "i.e (m\\*z + c )***\n",
    "\n",
    "**On adding c to  m.z**\n",
    "\n",
    "\n",
    "****$$f(z) = \\frac 1 {(1+ e^{-(mz+c)})} $$ $$    \n",
    "       = \\frac{e^{mz+c}}{e^{mz+c} + 1}  $$****\n",
    "\n",
    "\n"
   ]
  },
  {
   "cell_type": "markdown",
   "id": "65e3b1b6-49fb-4bcf-81e3-03145ff3208a",
   "metadata": {},
   "source": [
    "Add images showing for value of c = 0 and c =-30 \n"
   ]
  },
  {
   "cell_type": "markdown",
   "id": "eedc7cc8-a8ca-4a78-a2ba-775baff440de",
   "metadata": {},
   "source": [
    "- Now you might be clear regarding how the change is made in simplest form of sigmoid function to make best fit.  \n",
    "- But this work of finding the value of m and c to best fit the data is not performed by us ; it is the job of computer.  \n",
    "- Computer finds the best value of m and c  using gradient descent similar  to  the way it's done in linear Regression  .  \n",
    "- Instead of using SSE as loss in Linear Regression , we use Binary Cross Entroy Loss function .  \n",
    "\n",
    "****Well ,  \n",
    "What is Binary Cross Entropy Loss Function**** ? .  \n",
    "For each data point , \n",
    "\n",
    "****$$ \\mathcal{L}(y, \\hat{y}) = -\\left( y \\log(\\hat{y}) + (1 - y) \\log(1 - \\hat{y}) \\right) $$****\n",
    " where ,  \n",
    " $y$ is the true label (either 0 or 1),\n",
    "\n",
    "$\\hat{y}$ is the predicted probability (output of the logistic function).  \n",
    "\n",
    "\n",
    "      \n",
    "\n",
    "### Total Loss : \n",
    "****$$ J  = -\\frac{1}{m} \\sum_{i=1}^{m} \\left[ y^{(i)} \\log(\\hat{y}^{(i)}) + (1 - y^{(i)}) \\log(1 - \\hat{y}^{(i)}) \\right]$$****\n",
    "\n",
    "Where ,   \n",
    "*m is the number of training examples,*\n",
    "\n",
    "*$y^{(i)}$ is the true label for the i-th example*\n",
    "\n",
    "*$\\hat{y}^{(i)}$ \n",
    "  is the predicted probability for the i-th example.*\n"
   ]
  },
  {
   "cell_type": "markdown",
   "id": "4599cf2a-6406-48a2-b9b8-68131b4df262",
   "metadata": {},
   "source": [
    "##### Now the value of m and c is obtained using `Gradient Descent` so as to minimize the value of Total Loss."
   ]
  },
  {
   "cell_type": "markdown",
   "id": "aa054b60-440b-42a2-9590-dc69b5fbc1de",
   "metadata": {},
   "source": [
    "\n",
    " Animation ..  \n",
    " Left hand side  : gradient descent ..( flowing of red ball toward the minima )  \n",
    " Right hand side: fitting the sigmoid function in the data."
   ]
  },
  {
   "cell_type": "markdown",
   "id": "ccfa0156-e511-42b1-881f-5a97d08db268",
   "metadata": {},
   "source": [
    "###Note...: Next Chapter  on Multiple classes and multiple features. "
   ]
  },
  {
   "cell_type": "code",
   "execution_count": null,
   "id": "477b4f7c-438e-4eac-b23e-0fbde4ce12d0",
   "metadata": {},
   "outputs": [],
   "source": []
  }
 ],
 "metadata": {
  "kernelspec": {
   "display_name": "Python 3 (ipykernel)",
   "language": "python",
   "name": "python3"
  },
  "language_info": {
   "codemirror_mode": {
    "name": "ipython",
    "version": 3
   },
   "file_extension": ".py",
   "mimetype": "text/x-python",
   "name": "python",
   "nbconvert_exporter": "python",
   "pygments_lexer": "ipython3",
   "version": "3.10.12"
  }
 },
 "nbformat": 4,
 "nbformat_minor": 5
}
