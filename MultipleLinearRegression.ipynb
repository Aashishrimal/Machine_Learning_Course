{
 "cells": [
  {
   "cell_type": "markdown",
   "id": "f3ad08a2-def9-4a4e-8bd3-608ad6945502",
   "metadata": {},
   "source": [
    "## Multiple Linear Regression"
   ]
  },
  {
   "cell_type": "markdown",
   "id": "9240de90-2ea7-41ec-86dc-3738a868607f",
   "metadata": {},
   "source": [
    "---\n",
    "- In the previous chapter we learned about predicting the output (Y) for  single  input (X).\n",
    "- In this chapter, we are going to learn about predicting the output (Y) for  multiple inputs ($X_n$)\n"
   ]
  },
  {
   "cell_type": "markdown",
   "id": "5a888521-327b-4715-b628-ce7c3f187677",
   "metadata": {},
   "source": [
    "---\n",
    "It's example could be predicting the price of house  (Y) on the basis of multiple input : $X_1$  Nummber of bedrooms ,  $X_2$ age of property ,  $X_3$ size of property . \n"
   ]
  },
  {
   "cell_type": "markdown",
   "id": "ea5b8ee4-32f5-458d-bb88-ac7587eacd1b",
   "metadata": {},
   "source": [
    "### Comparision between Single and multiple Linear Regression "
   ]
  },
  {
   "cell_type": "markdown",
   "id": "f1881095-05dd-4f41-8e3a-3d3fd852fd19",
   "metadata": {},
   "source": [
    "<!DOCTYPE html>\n",
    "<html lang=\"en\">\n",
    "<head>\n",
    "    <meta charset=\"UTF-8\">\n",
    "    <meta name=\"viewport\" content=\"width=device-width, initial-scale=1.0\">\n",
    "    <style>\n",
    "        table {\n",
    "            width: 100%;\n",
    "            border-collapse: collapse;\n",
    "        }\n",
    "        th, td {\n",
    "            width: 50%; /* Adjusted to have equal width for two columns */\n",
    "            padding: 10px;\n",
    "            text-align: left;\n",
    "            vertical-align: top;\n",
    "        }\n",
    "        img {\n",
    "            width: 100%;\n",
    "            height: 200px; /* Fixed height for images */\n",
    "            display: block;\n",
    "            margin: 0 auto;\n",
    "            object-fit: cover; /* Ensures the image covers the assigned area */\n",
    "        }\n",
    "    </style>\n",
    "</head>\n",
    "<body>\n",
    "    <table border=\"1\">\n",
    "        <tr>\n",
    "            <th>1 Input feature</th>\n",
    "            <th>2 Input features</th>\n",
    "        </tr>\n",
    "        <tr>\n",
    "            <td>\n",
    "                <p>A best fit line (m, c) is evaluated.</p>\n",
    "                <img src=\"linear_regression_plot_c.jpg\" alt=\"Image 1\">\n",
    "                <p>Label 1</p>\n",
    "            </td>\n",
    "            <td>\n",
    "                <p>Best fit two-dimensional plane ($m_1$, $m_2$ and c) is evaluated.</p>\n",
    "                <img src=\"2_feature_linear_regression.jpg\" alt=\"Image 2\">\n",
    "                <p>Label 2</p>\n",
    "            </td>\n",
    "        </tr>\n",
    "    </table>\n",
    "</body>\n",
    "</html>\n"
   ]
  },
  {
   "cell_type": "markdown",
   "id": "3f0608fc-f64f-43aa-b9c7-5301f63925fa",
   "metadata": {},
   "source": [
    "- In the 1 input problem $m$  and $c$ are evaluated to represent a line in the 2D space.  \n",
    "    \n",
    "- In the 2 input problem $m_1$ ,$m_2$ and $c$ are evaluated to represent a 2D plane in the 3D space.\n"
   ]
  },
  {
   "cell_type": "markdown",
   "id": "c092d17b-16d1-4408-8d54-abe19ef42d1e",
   "metadata": {},
   "source": [
    "#### For 3 or more input features.\n",
    "-For 3 input problem we need to evaluate ($m_1$ ,$m_2$ ,$m_3$ and $c$ )to represent  3D hyper- plane  in a 4dimensional space .  \n",
    "-Similary for more than 3  input features.  \n",
    "-Although it is not visualizable we can evaluate $m_1$ , $m_2$ , $m_3 $ ..... $m_n$ according to the number of input features  $X_n$. \n",
    "\n",
    "\n",
    "<img src=\"4thdimension.jpg\" alt=\"Linear Regression\" style=\"width:300px; height:auto;\">\n"
   ]
  },
  {
   "cell_type": "markdown",
   "id": "274c0b27-4db6-4bbf-8204-2b525ec3e62a",
   "metadata": {},
   "source": [
    "\n",
    "\n",
    "\n",
    "\n",
    "\n",
    "\n",
    "### Implementation in Real-World Problem\n"
   ]
  },
  {
   "cell_type": "markdown",
   "id": "a4b00f90-1f0e-4e23-b750-48223b7f3452",
   "metadata": {},
   "source": [
    "#### Imports "
   ]
  },
  {
   "cell_type": "code",
   "execution_count": 2,
   "id": "07029fc7-20e0-4916-815d-c08f116686f9",
   "metadata": {},
   "outputs": [],
   "source": [
    "\n",
    "import numpy as np\n",
    "import pandas as pd\n",
    "import matplotlib as mp\n",
    "from matplotlib import pyplot as plt\n",
    "from sklearn.linear_model import LinearRegression\n",
    "\n"
   ]
  },
  {
   "cell_type": "markdown",
   "id": "793cb3ca-1478-405b-b27e-22ef6fd046ab",
   "metadata": {},
   "source": [
    "#### Data \n",
    "This data from a book [An Introduction to Statistical Learning](URLhttps://www.statlearning.com/resources-second-edition)  \n",
    "The dataset contain 3 input features :  \n",
    "Amout of $s ( in thousand of dollor )  spent in advertising through\n",
    "1. Television\n",
    "2. Radio\n",
    "3. Newspaper.\n",
    "\n",
    "The output is the total unit of sales ( thousand of  unit)  .\n"
   ]
  },
  {
   "cell_type": "code",
   "execution_count": 3,
   "id": "e5b191c4-c380-44b1-ad46-d19fbce30b65",
   "metadata": {},
   "outputs": [
    {
     "data": {
      "text/html": [
       "<div>\n",
       "<style scoped>\n",
       "    .dataframe tbody tr th:only-of-type {\n",
       "        vertical-align: middle;\n",
       "    }\n",
       "\n",
       "    .dataframe tbody tr th {\n",
       "        vertical-align: top;\n",
       "    }\n",
       "\n",
       "    .dataframe thead th {\n",
       "        text-align: right;\n",
       "    }\n",
       "</style>\n",
       "<table border=\"1\" class=\"dataframe\">\n",
       "  <thead>\n",
       "    <tr style=\"text-align: right;\">\n",
       "      <th></th>\n",
       "      <th>TV</th>\n",
       "      <th>radio</th>\n",
       "      <th>newspaper</th>\n",
       "      <th>sales</th>\n",
       "    </tr>\n",
       "  </thead>\n",
       "  <tbody>\n",
       "    <tr>\n",
       "      <th>1</th>\n",
       "      <td>230.1</td>\n",
       "      <td>37.8</td>\n",
       "      <td>69.2</td>\n",
       "      <td>22.1</td>\n",
       "    </tr>\n",
       "    <tr>\n",
       "      <th>2</th>\n",
       "      <td>44.5</td>\n",
       "      <td>39.3</td>\n",
       "      <td>45.1</td>\n",
       "      <td>10.4</td>\n",
       "    </tr>\n",
       "    <tr>\n",
       "      <th>3</th>\n",
       "      <td>17.2</td>\n",
       "      <td>45.9</td>\n",
       "      <td>69.3</td>\n",
       "      <td>9.3</td>\n",
       "    </tr>\n",
       "    <tr>\n",
       "      <th>4</th>\n",
       "      <td>151.5</td>\n",
       "      <td>41.3</td>\n",
       "      <td>58.5</td>\n",
       "      <td>18.5</td>\n",
       "    </tr>\n",
       "    <tr>\n",
       "      <th>5</th>\n",
       "      <td>180.8</td>\n",
       "      <td>10.8</td>\n",
       "      <td>58.4</td>\n",
       "      <td>12.9</td>\n",
       "    </tr>\n",
       "  </tbody>\n",
       "</table>\n",
       "</div>"
      ],
      "text/plain": [
       "      TV  radio  newspaper  sales\n",
       "1  230.1   37.8       69.2   22.1\n",
       "2   44.5   39.3       45.1   10.4\n",
       "3   17.2   45.9       69.3    9.3\n",
       "4  151.5   41.3       58.5   18.5\n",
       "5  180.8   10.8       58.4   12.9"
      ]
     },
     "execution_count": 3,
     "metadata": {},
     "output_type": "execute_result"
    }
   ],
   "source": [
    "data_path = \"https://www.statlearning.com/s/Advertising.csv\" \n",
    "\n",
    "# Read the CSV data from the link\n",
    "data= pd.read_csv(data_path,index_col=0)\n",
    "\n",
    "# Print out first 5 samples from the DataFrame\n",
    "data.head()"
   ]
  },
  {
   "cell_type": "markdown",
   "id": "cc3f4e5e-53ba-4112-8a28-7745927fd6cd",
   "metadata": {},
   "source": [
    "#### Implementing multiple  Linear Regression in this data. \n"
   ]
  },
  {
   "cell_type": "code",
   "execution_count": 4,
   "id": "0c154e7f-b52f-499b-a6b6-edab358c9e48",
   "metadata": {
    "scrolled": true
   },
   "outputs": [
    {
     "name": "stdout",
     "output_type": "stream",
     "text": [
      "m1 (TV coefficient): 0.046\n",
      "m2 (Radio coefficient): 0.189\n",
      "m3 (Newspaper coefficient): -0.001\n",
      "c (Intercept): 2.94\n"
     ]
    }
   ],
   "source": [
    "\n",
    "# Prepare da\n",
    "X = data[['TV', 'radio', 'newspaper']]\n",
    "y = data['sales']\n",
    "\n",
    "# Fit multiple linear regression model\n",
    "model = LinearRegression()\n",
    "model.fit(X, y)\n",
    "\n",
    "# Print coefficients and intercept\n",
    "print(f'm1 (TV coefficient): {model.coef_[0]:.3f}')\n",
    "print(f'm2 (Radio coefficient): {model.coef_[1]:.3f}')\n",
    "print(f'm3 (Newspaper coefficient): {model.coef_[2]:.3f}')\n",
    "print(f'c (Intercept): {model.intercept_:.2f}')"
   ]
  },
  {
   "cell_type": "markdown",
   "id": "09b27ffe-5249-4c92-b108-a03e61ffc5f9",
   "metadata": {},
   "source": [
    "---\n",
    "- Here value of m1, m2, m3 means  the numerical representaiton of importance of that specific input feature to predict the output\n",
    "."
   ]
  },
  {
   "cell_type": "markdown",
   "id": "97df69d3-a8e5-41d7-a578-520f26ac0e83",
   "metadata": {},
   "source": [
    "#### Predicting for a new data"
   ]
  },
  {
   "cell_type": "code",
   "execution_count": 9,
   "id": "a698b196-b018-492c-b103-f37c7c30e283",
   "metadata": {},
   "outputs": [
    {
     "name": "stdout",
     "output_type": "stream",
     "text": [
      "The predicted number of sales is : [16.46629814]  thousand\n"
     ]
    },
    {
     "name": "stderr",
     "output_type": "stream",
     "text": [
      "/home/aashish/.local/lib/python3.10/site-packages/sklearn/base.py:493: UserWarning: X does not have valid feature names, but LinearRegression was fitted with feature names\n",
      "  warnings.warn(\n"
     ]
    }
   ],
   "source": [
    "new_data = pd.DataFrame({\n",
    "    'TV': [50],\n",
    "    'Radio': [60],\n",
    "    'Newspaper': [70]\n",
    "})\n",
    "\n",
    "predicted_sales = model.predict([[50, 60 ,70]])\n",
    "print('The predicted number of sales is :', predicted_sales, ' thousand')"
   ]
  },
  {
   "cell_type": "code",
   "execution_count": null,
   "id": "27f35e17-4fee-4986-bd60-c19d6f6dcb5b",
   "metadata": {},
   "outputs": [],
   "source": []
  }
 ],
 "metadata": {
  "kernelspec": {
   "display_name": "Python 3 (ipykernel)",
   "language": "python",
   "name": "python3"
  },
  "language_info": {
   "codemirror_mode": {
    "name": "ipython",
    "version": 3
   },
   "file_extension": ".py",
   "mimetype": "text/x-python",
   "name": "python",
   "nbconvert_exporter": "python",
   "pygments_lexer": "ipython3",
   "version": "3.10.12"
  }
 },
 "nbformat": 4,
 "nbformat_minor": 5
}
