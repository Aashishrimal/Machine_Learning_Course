{
 "cells": [
  {
   "cell_type": "markdown",
   "id": "f3ad08a2-def9-4a4e-8bd3-608ad6945502",
   "metadata": {
    "editable": true,
    "slideshow": {
     "slide_type": ""
    },
    "tags": []
   },
   "source": [
    "## Multiple Linear Regression"
   ]
  },
  {
   "cell_type": "markdown",
   "id": "9240de90-2ea7-41ec-86dc-3738a868607f",
   "metadata": {},
   "source": [
    "---\n",
    "- In the previous chapter we learned about predicting the output (Y) for  single  input (X).\n",
    "- In this chapter, we are going to learn about predicting the output (Y) for  multiple inputs ($X_n$)\n"
   ]
  },
  {
   "cell_type": "markdown",
   "id": "5a888521-327b-4715-b628-ce7c3f187677",
   "metadata": {},
   "source": [
    "---\n",
    "Example : Predicting the price of house  (Y) on the basis of multiple input : $X_1$  Nummber of bedrooms ,  $X_2$ age of property ,  $X_3$ size of property . \n"
   ]
  },
  {
   "cell_type": "markdown",
   "id": "ea5b8ee4-32f5-458d-bb88-ac7587eacd1b",
   "metadata": {},
   "source": [
    "### Comparision between Single and multiple Linear Regression "
   ]
  },
  {
   "cell_type": "code",
   "execution_count": null,
   "id": "e26f6d9c-0145-42f8-a504-eab9455d1afd",
   "metadata": {
    "editable": true,
    "slideshow": {
     "slide_type": ""
    },
    "tags": [
     "remove_input"
    ]
   },
   "outputs": [],
   "source": [
    "import numpy as np\n",
    "import matplotlib.pyplot as plt\n",
    "from sklearn.linear_model import LinearRegression\n",
    "import plotly.graph_objects as go\n",
    "from IPython.display import display, HTML\n",
    "\n",
    "# Set random seed\n",
    "np.random.seed(42)\n",
    "\n",
    "# -----------------------------\n",
    "# Generate synthetic data\n",
    "# -----------------------------\n",
    "n_samples = 100\n",
    "land_area = np.random.uniform(3.0, 6.0, n_samples)  # aana (≥ 3)\n",
    "rooms = np.random.randint(1, 8, n_samples)\n",
    "\n",
    "cost_per_room = 7.5\n",
    "cost_per_aana = 25\n",
    "\n",
    "land_cost = cost_per_aana * land_area + np.random.normal(0, 8, n_samples)\n",
    "building_cost = cost_per_room * rooms + np.random.normal(0, 3, n_samples)\n",
    "total_cost = land_cost + building_cost\n",
    "\n",
    "# -----------------------------\n",
    "# Simple Linear Regression\n",
    "# -----------------------------\n",
    "simple_model = LinearRegression()\n",
    "simple_model.fit(land_area.reshape(-1, 1), land_cost)\n",
    "\n",
    "x_land = np.linspace(3, 6, 100)\n",
    "y_pred = simple_model.predict(x_land.reshape(-1, 1))\n",
    "\n",
    "# Save simple regression plot as image\n",
    "fig1, ax = plt.subplots(figsize=(6, 5))\n",
    "ax.scatter(land_area, land_cost, color='purple', alpha=0.6, label='Data')\n",
    "ax.plot(x_land, y_pred, color='black', label='Fitted Line')\n",
    "ax.set_xlabel(\"Land Area (Aana)\")\n",
    "ax.set_ylabel(\"Land Cost (Lakh NRS)\")\n",
    "ax.set_title(\"Simple Linear Regression\")\n",
    "ax.legend()\n",
    "ax.grid(True)\n",
    "fig1.tight_layout()\n",
    "fig1.savefig(\"simple_plot.png\")  # Save figure\n",
    "plt.close(fig1)  # Close to prevent duplicate rendering\n",
    "\n",
    "# -----------------------------\n",
    "# Multiple Linear Regression (Interactive)\n",
    "# -----------------------------\n",
    "X_multi = np.column_stack((rooms, land_area))\n",
    "multi_model = LinearRegression()\n",
    "multi_model.fit(X_multi, total_cost)\n",
    "\n",
    "room_grid, land_grid = np.meshgrid(np.linspace(1, 8, 30), np.linspace(3, 6, 30))\n",
    "grid_points = np.column_stack((room_grid.ravel(), land_grid.ravel()))\n",
    "Z_pred = multi_model.predict(grid_points).reshape(room_grid.shape)\n",
    "\n",
    "fig2 = go.Figure()\n",
    "\n",
    "fig2.add_trace(go.Scatter3d(\n",
    "    x=rooms,\n",
    "    y=land_area,\n",
    "    z=total_cost,\n",
    "    mode='markers',\n",
    "    marker=dict(size=5, color='blue', opacity=0.7),\n",
    "    name='Data Points'\n",
    "))\n",
    "\n",
    "fig2.add_trace(go.Surface(\n",
    "    x=room_grid,\n",
    "    y=land_grid,\n",
    "    z=Z_pred,\n",
    "    colorscale='YlOrRd',\n",
    "    opacity=0.7,\n",
    "    name='Regression Surface',\n",
    "    showscale=False\n",
    "))\n",
    "\n",
    "fig2.update_layout(\n",
    "    scene=dict(\n",
    "        xaxis_title='Rooms',\n",
    "        yaxis_title='Land (Aana)',\n",
    "        zaxis_title='Total Cost (Lakh)'\n",
    "    ),\n",
    "    title='Multiple Linear Regression',\n",
    "    margin=dict(l=0, r=0, b=0, t=30)\n",
    ")\n",
    "\n",
    "# -----------------------------\n",
    "# Side-by-side display in Jupyter Notebook\n",
    "# -----------------------------\n",
    "display(HTML(f\"\"\"\n",
    "<div style=\"display: flex; justify-content: space-around; align-items: flex-start;\">\n",
    "  <div style=\"width: 45%;\">\n",
    "    <img src=\"simple_plot.png\" style=\"width: 100%; border:1px solid #ccc;\" />\n",
    "  </div>\n",
    "  <div style=\"width: 50%;\">\n",
    "    {fig2.to_html(include_plotlyjs='cdn', full_html=False)}\n",
    "  </div>\n",
    "</div>\n",
    "\"\"\"))\n"
   ]
  },
  {
   "cell_type": "markdown",
   "id": "3f0608fc-f64f-43aa-b9c7-5301f63925fa",
   "metadata": {
    "editable": true,
    "slideshow": {
     "slide_type": ""
    },
    "tags": []
   },
   "source": [
    "- In 1 input problem $m$  and $c$ are evaluated to represent a line in the 2D space.  \n",
    "    \n",
    "- In 2 input problem $m_1$ ,$m_2$ and $c$ are evaluated to represent a 2D plane in the 3D space.\n"
   ]
  },
  {
   "cell_type": "markdown",
   "id": "1e3fd597-c0d9-49b0-a838-e45aebfc438f",
   "metadata": {},
   "source": [
    "#### For 3 or more input features.\n",
    "-For 3 input problem we need to evaluate ($m_1$ ,$m_2$ ,$m_3$ and $c$ )to represent  3D hyper- plane  in a 4dimensional space .  \n",
    "-Similary for more than 3  input features.  \n",
    "-Although it is not visualizable we can evaluate best fit  $m_1$ , $m_2$ , $m_3 $ ..... $m_n$ according to the number of input features  $X_n$"
   ]
  },
  {
   "cell_type": "markdown",
   "id": "b6299b46-cac8-4db9-b33e-de80f53a3222",
   "metadata": {},
   "source": [
    "<a href=\"https://www.flickr.com/photos/200947226@N07/54464499404/in/dateposted-public/\" title=\"ChatGPT Image Apr 21, 2025, 12_16_59 AM\">\n",
    "  <img src=\"https://live.staticflickr.com/65535/54464499404_b5a47c914f_h.jpg\" height = '100' width ='200' alt=\"ChatGPT Image Apr 21, 2025, 12_16_59 AM\"/>\n",
    "</a>"
   ]
  },
  {
   "cell_type": "markdown",
   "id": "c092d17b-16d1-4408-8d54-abe19ef42d1e",
   "metadata": {},
   "source": [
    "\n",
    "\n",
    "The process of evalulating  best fit  $m_1$ , $m_2$ , $m_3 $ ..... $m_n$ and $c$ is same as that of Simple Linear Regression.  \n",
    "$i.e$ Minimizing the Sum of Squared Error.  \n",
    "\n",
    "For one  variable $m_1$  \n",
    "$Step 1$ : Evaluation of partial derivative of SSE with respect to $m_1$   \n",
    "        Partial Derivative of  SSE with respect to  $m_1$ is given by :  \n",
    "        \n",
    "$P$= $\\frac{\\partial }{\\partial m_1 }SSE$   \n",
    "\n",
    "$P$= $\\frac{\\partial }{\\partial m_1 }\\sum(y-(m_1 *x_1+ m_2*x_2+ ...... m_n*x_n +c))^2$   \n",
    "  ( Here Summation deontes this opeartion to be performed for each data point and all outputs are added )  \n",
    "$P$= $\\sum\\frac{\\partial }{\\partial m_1}(y-(m_1 *x_1+ m_2*x_2+ ...... m_n*x_n +c))^2 $   \n",
    "$P$= $ \\sum2(y-(m_1 *x_1+ m_2*x_2+ ...... m_n*x_n +c) )(-x_1) $\n",
    "\n",
    "$Step 2$: Make small step   \n",
    "   $new$ $m_1$ = $m_1$ + $k$* $P$\n",
    "   where k is constant called step size. As the name suggests it determine the size of  each step .   \n",
    "\n",
    "$Step 3$: Step 1 and 2 are performed for each variables $m_1$ , $m_2$ , $m_3 $ ..... $m_n$ and $c$ .  \n",
    "\n",
    "$Step 4$: Step 1 ,2,3  repetedly until $P$ attends value almost near to zero for each variables $m_1$ , $m_2$ , $m_3 $ ..... $m_n$ and $c$  .   \n",
    " \n",
    "\n",
    "   \n",
    "\n",
    "   "
   ]
  },
  {
   "cell_type": "code",
   "execution_count": null,
   "id": "e7e53525-e967-4406-ad89-08cb59380706",
   "metadata": {
    "editable": true,
    "scrolled": true,
    "slideshow": {
     "slide_type": ""
    },
    "tags": [
     "remove_input"
    ]
   },
   "outputs": [],
   "source": [
    "import pandas as pd\n",
    "import numpy as np\n",
    "import matplotlib.pyplot as plt\n",
    "from matplotlib.animation import FuncAnimation\n",
    "from mpl_toolkits.mplot3d import Axes3D\n",
    "from IPython.display import HTML\n",
    "\n",
    "# Create synthetic data with a higher gradient\n",
    "np.random.seed(42)\n",
    "n = 100  # number of data points\n",
    "X1 = np.random.rand(n) * 10  # TV spending (0 to 10)\n",
    "X2 = np.random.rand(n) * 10  # Radio spending (0 to 10)\n",
    "\n",
    "# Increased coefficients for a higher gradient\n",
    "Y = 3 + 10 * X1 + 12 * X2 + np.random.randn(n) * 2  # Higher gradient for both X1 and X2\n",
    "\n",
    "# Normalize features\n",
    "X1 = (X1 - X1.mean()) / X1.std()\n",
    "X2 = (X2 - X2.mean()) / X2.std()\n",
    "Y = Y\n",
    "\n",
    "# Design matrix for plane: [1, X1, X2]\n",
    "X = np.c_[np.ones(X1.shape), X1, X2]\n",
    "\n",
    "# Initialize weights to tilt the plane in the opposite direction\n",
    "# This will tilt the plane initially in the opposite direction\n",
    "w = np.array([5, -2, -10])  # b0=5, b1=-2, b2=-10 (change b1 and b2 for the opposite tilt)\n",
    "\n",
    "# Hyperparameters\n",
    "alpha = 0.05\n",
    "iterations = 100\n",
    "\n",
    "# To record parameter updates\n",
    "w_history = []\n",
    "\n",
    "# Gradient Descent\n",
    "for _ in range(iterations):\n",
    "    y_pred = X @ w\n",
    "    error = y_pred - Y\n",
    "    gradient = X.T @ error / len(Y)\n",
    "    w = w - alpha * gradient\n",
    "    w_history.append(w.copy())\n",
    "\n",
    "# Create meshgrid for plotting surface\n",
    "x1_surf, x2_surf = np.meshgrid(np.linspace(X1.min(), X1.max(), 30),\n",
    "                               np.linspace(X2.min(), X2.max(), 30))\n",
    "\n",
    "# Create figure\n",
    "fig = plt.figure(figsize=(10, 7))\n",
    "ax = fig.add_subplot(111, projection='3d')\n",
    "sc = ax.scatter(X1, X2, Y, color='black', label='Data')\n",
    "\n",
    "plane = [None]\n",
    "\n",
    "def update(i):\n",
    "    ax.clear()\n",
    "    ax.set_xlabel(\"TV (normalized)\")\n",
    "    ax.set_ylabel(\"Radio (normalized)\")\n",
    "    ax.set_zlabel(\"Sales\")\n",
    "    ax.set_title(f\"Iteration {i+1}\")\n",
    "    ax.scatter(X1, X2, Y, color='black', label='Data')\n",
    "\n",
    "    # Get current weights\n",
    "    b0, b1, b2 = w_history[i]\n",
    "    y_surf = b0 + b1 * x1_surf + b2 * x2_surf\n",
    "    ax.plot_surface(x1_surf, x2_surf, y_surf, alpha=0.5, color='red', label='Fitted Plane')\n",
    "\n",
    "    # Plot lines from data points to the plane\n",
    "    for j in range(n):\n",
    "        # Calculate the predicted Y value for each data point from the plane equation\n",
    "        y_plane = b0 + b1 * X1[j] + b2 * X2[j]\n",
    "        # Plot the line connecting the data point to the plane\n",
    "        ax.plot([X1[j], X1[j]], [X2[j], X2[j]], [Y[j], y_plane], color='gray', linewidth=0.5)\n",
    "\n",
    "ani = FuncAnimation(fig, update, frames=len(w_history), interval=100)\n",
    "\n",
    "# Display the animation inline\n",
    "HTML(ani.to_jshtml())\n"
   ]
  },
  {
   "cell_type": "markdown",
   "id": "274c0b27-4db6-4bbf-8204-2b525ec3e62a",
   "metadata": {},
   "source": [
    "\n",
    "\n",
    "\n",
    "\n",
    "\n",
    "\n",
    "### Implementation in Real-World Problem\n"
   ]
  },
  {
   "cell_type": "markdown",
   "id": "a4b00f90-1f0e-4e23-b750-48223b7f3452",
   "metadata": {},
   "source": [
    "#### Imports "
   ]
  },
  {
   "cell_type": "code",
   "execution_count": null,
   "id": "07029fc7-20e0-4916-815d-c08f116686f9",
   "metadata": {},
   "outputs": [],
   "source": [
    "\n",
    "import numpy as np\n",
    "import pandas as pd\n",
    "import matplotlib as mp\n",
    "from matplotlib import pyplot as plt\n",
    "from sklearn.linear_model import LinearRegression\n",
    "\n"
   ]
  },
  {
   "cell_type": "markdown",
   "id": "793cb3ca-1478-405b-b27e-22ef6fd046ab",
   "metadata": {},
   "source": [
    "#### Data \n",
    "This data from a book [An Introduction to Statistical Learning](URLhttps://www.statlearning.com/resources-second-edition)  \n",
    "The dataset contain 3 input features :  \n",
    "Amout of $s ( in thousand of dollor )  spent in advertising through\n",
    "1. Television\n",
    "2. Radio\n",
    "3. Newspaper.\n",
    "\n",
    "The output is the total unit of sales ( thousand of  unit)  .\n"
   ]
  },
  {
   "cell_type": "code",
   "execution_count": null,
   "id": "e5b191c4-c380-44b1-ad46-d19fbce30b65",
   "metadata": {},
   "outputs": [],
   "source": [
    "data_path = \"https://www.statlearning.com/s/Advertising.csv\" \n",
    "\n",
    "# Read the CSV data from the link\n",
    "data= pd.read_csv(data_path,index_col=0)\n",
    "\n",
    "# Print out first 5 samples from the DataFrame\n",
    "data.head()"
   ]
  },
  {
   "cell_type": "markdown",
   "id": "cc3f4e5e-53ba-4112-8a28-7745927fd6cd",
   "metadata": {},
   "source": [
    "#### Implementing multiple  Linear Regression in this data. \n"
   ]
  },
  {
   "cell_type": "code",
   "execution_count": null,
   "id": "0c154e7f-b52f-499b-a6b6-edab358c9e48",
   "metadata": {
    "scrolled": true
   },
   "outputs": [],
   "source": [
    "\n",
    "# Prepare da\n",
    "X = data[['TV', 'radio', 'newspaper']]\n",
    "y = data['sales']\n",
    "\n",
    "# Fit multiple linear regression model\n",
    "model = LinearRegression()\n",
    "model.fit(X, y)\n",
    "\n",
    "# Print coefficients and intercept\n",
    "print(f'm1 (TV coefficient): {model.coef_[0]:.3f}')\n",
    "print(f'm2 (Radio coefficient): {model.coef_[1]:.3f}')\n",
    "print(f'm3 (Newspaper coefficient): {model.coef_[2]:.3f}')\n",
    "print(f'c (Intercept): {model.intercept_:.2f}')"
   ]
  },
  {
   "cell_type": "markdown",
   "id": "09b27ffe-5249-4c92-b108-a03e61ffc5f9",
   "metadata": {},
   "source": [
    "---\n",
    "- Here value of m1, m2, m3 means  the numerical representaiton of importance of that specific input feature to predict the output\n",
    "."
   ]
  },
  {
   "cell_type": "markdown",
   "id": "97df69d3-a8e5-41d7-a578-520f26ac0e83",
   "metadata": {},
   "source": [
    "#### Predicting for a new data"
   ]
  },
  {
   "cell_type": "code",
   "execution_count": null,
   "id": "a698b196-b018-492c-b103-f37c7c30e283",
   "metadata": {},
   "outputs": [],
   "source": [
    "new_data = pd.DataFrame({\n",
    "    'TV': [50],\n",
    "    'radio': [60],\n",
    "    'newspaper': [70]\n",
    "}) \n",
    "\n",
    "predicted_sales = model.predict(new_data)\n",
    "print('The predicted number of sales is :', predicted_sales, ' thousand')"
   ]
  },
  {
   "cell_type": "code",
   "execution_count": null,
   "id": "bdf13621-0fd6-4022-8fdf-e54151bc6ee0",
   "metadata": {},
   "outputs": [],
   "source": []
  }
 ],
 "metadata": {
  "kernelspec": {
   "display_name": "Python 3 (ipykernel)",
   "language": "python",
   "name": "python3"
  },
  "language_info": {
   "codemirror_mode": {
    "name": "ipython",
    "version": 3
   },
   "file_extension": ".py",
   "mimetype": "text/x-python",
   "name": "python",
   "nbconvert_exporter": "python",
   "pygments_lexer": "ipython3",
   "version": "3.13.3"
  }
 },
 "nbformat": 4,
 "nbformat_minor": 5
}
