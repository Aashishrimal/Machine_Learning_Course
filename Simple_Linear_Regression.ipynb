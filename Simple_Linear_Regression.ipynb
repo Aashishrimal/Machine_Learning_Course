{
 "cells": [
  {
   "cell_type": "markdown",
   "metadata": {
    "editable": true,
    "id": "L51JCZCW7nSN",
    "slideshow": {
     "slide_type": ""
    },
    "tags": []
   },
   "source": [
    "# Linear Regression \n",
    "\n",
    "\n"
   ]
  },
  {
   "attachments": {},
   "cell_type": "markdown",
   "metadata": {
    "editable": true,
    "id": "QdhQHDmt76a8",
    "slideshow": {
     "slide_type": ""
    },
    "tags": []
   },
   "source": [
    "## Simple Linear Regression\n",
    "\n",
    "<a data-flickr-embed=\"true\" href=\"https://www.flickr.com/photos/200947226@N07/53819385178/in/dateposted-public/\" title=\"Dataset illustrating height and corresponding weight of random people \">\n",
    "  <img src=\"https://live.staticflickr.com/65535/53819385178_9db6c6fb5a_z.jpg\" width=\"400\" height=\"250\" alt=\"b\"/>\n",
    "</a>\n",
    "<script async src=\"//embedr.flickr.com/assets/client-code.js\" charset=\"utf-8\"></script>\n",
    "\n",
    "figure 1 : Dataset of height and corresponding weight of random people \n",
    "\n",
    "\n",
    "### Problem : How can we create a Machine Learning Model   for data in figure 1 , that  predict the weight , provided the height ?\n",
    "\n",
    "On  finding the best fit line we can predict the value of weight for new value  of height.\n",
    "\n",
    "Here we try to fit a simple line to this data.\n",
    "\n",
    "The simple linear equation is:\n",
    "\n",
    " $$\\mathbf{y} = m\\mathbf{x} + c $$\n",
    "\n",
    "\n",
    "where, we need to estimate the parameters,  y -intercept($c$) and slope($m$). \n",
    "\n",
    "Simple Linear regression is a procedure to find the value of c and m which best fit the given data. \n",
    "\n"
   ]
  },
  {
   "cell_type": "markdown",
   "metadata": {
    "editable": true,
    "slideshow": {
     "slide_type": ""
    },
    "tags": []
   },
   "source": [
    "\n",
    "Let's see  a  simple linear regression performed on scatter plot of _height_ Vs. _weight_.\n",
    "\n",
    "\n",
    "<a data-flickr-embed=\"true\" href=\"https://www.flickr.com/photos/200947226@N07/53819384673/in/dateposted-public/\" title=\"a\"><img src=\"https://live.staticflickr.com/65535/53819384673_c792870188_z.jpg\" width=\"400\" height=\"250\" alt=\"a\"/></a><script async src=\"//embedr.flickr.com/assets/client-code.js\" charset=\"utf-8\"></script>\n",
    "\n",
    "figure 2 : Best fit line plotted over the data of figure 1.\n",
    "\n",
    "(We will  later go in detail regarding the procedure of finding the best fit  line )\n",
    "\n",
    "\n",
    "The red line is a simple linear regression line with output $\\mathbf{y}$ as `weight` and $\\mathbf{x}$ as `height`. \n",
    "\n",
    "The  error, $\\epsilon$ is the difference between the actual value, $y_i$, and predicted value, $\\hat{y_i}$.\n",
    "\n",
    "The actual output data point, which  are  the blue dots ,  the predicted value is projection of blue dots into red regression line . \n",
    "\n",
    "Error for each output data point is shown by the vertical distance from the actual output data point to the predicted point on a regression line.\n",
    "\n",
    "The predicted output value is:\n",
    "\n",
    "$$\\hat{y_i} = mx_i+ c$$\n",
    "\n",
    "The actual output value is:\n",
    "\n",
    "$$y_i =  mx_i+ c  + \\epsilon_i$$\n",
    "\n",
    "Where $\\epsilon_i$ is a  error. \n",
    "The error $\\epsilon_i$ as ($y_{i}-\\hat{y_{i}}$) can either be positive or negative or even 0 sometimes. \n",
    "\n",
    "We can see in the figure, error  represented by vertical lines are on either side of the regression line. \n",
    "\n",
    "We square each error and sum them, called _Sum of Squared Errors_.\n",
    "\n",
    "$$\\text{Sum of Squared Errors (SSE)} = \\sum_{i=1}^{n}(y_{i}-\\hat{y_{i}})^2$$\n",
    "\n",
    "The summation is indexed from $1$ to $n$, since we have $n$ samples. \n",
    "Change in $m$ and $c$ causes change in Sum of Squared Errors. \n",
    "\n",
    "The main principle  is that we should end up choosing intercept ($m$) and slope ($$) such that the overall sum is minimum.\n",
    "\n",
    "Sum of Squared Errors (SSE) can also be written as:\n",
    "\n",
    "$$\\text{SSE} = \\sum_{i=1}^{n}(y_{i}-\\hat{y_{i}})^2 =\\sum_{i=1}^{n}(y_{i}-(c+m_1x_i))^2 $$\n",
    "\n",
    "Here, $\\hat{y_i}$ is replaced with the simple linear regression model equation,  i.e $\\hat{y_i}$ =  $m*x+c$ .\n",
    "\n",
    "\n",
    "Since $\\text{SSE}$ is a squared term, it is always positive.\n",
    "On plotting  the  value of $c$ ,$m$ in x and y axis and  evaluating corresponding SSE in z axis ,the 3D graph  would be a convex structure  facing upwards. \n",
    "\n",
    "\n",
    "\n",
    "\n"
   ]
  },
  {
   "cell_type": "markdown",
   "metadata": {},
   "source": [
    "### Visualization of change in value of SSE for various combination of m and c . \n",
    "##\n"
   ]
  },
  {
   "cell_type": "markdown",
   "metadata": {},
   "source": [
    "### The code  below is intented to be hidden."
   ]
  },
  {
   "cell_type": "code",
   "execution_count": 1,
   "metadata": {},
   "outputs": [
    {
     "data": {
      "text/html": [
       "\n",
       "        <iframe\n",
       "            width=\"100%\"\n",
       "            height=\"400\"\n",
       "            src=\"https://rawcdn.githack.com/Aashishrimal/LinearRegression/e14c77a7d7465858c5a8c8ddbb87a680fe31a4fc/3d_surface_plot.html\"\n",
       "            frameborder=\"0\"\n",
       "            allowfullscreen\n",
       "            \n",
       "        ></iframe>\n",
       "        "
      ],
      "text/plain": [
       "<IPython.lib.display.IFrame at 0x7dd29bab8640>"
      ]
     },
     "execution_count": 1,
     "metadata": {},
     "output_type": "execute_result"
    }
   ],
   "source": [
    "from IPython.display import IFrame\n",
    "url = 'https://rawcdn.githack.com/Aashishrimal/LinearRegression/e14c77a7d7465858c5a8c8ddbb87a680fe31a4fc/3d_surface_plot.html'\n",
    "IFrame(url, width='100%', height=400)"
   ]
  },
  {
   "cell_type": "markdown",
   "metadata": {},
   "source": [
    "\n",
    "<a href=\"https://rawcdn.githack.com/Aashishrimal/LinearRegression/e14c77a7d7465858c5a8c8ddbb87a680fe31a4fc/3d_surface_plot.html\" target=\"_blank\"><span style=\"font-size: larger;\">CLICK HERE FOR 3D INTERACTIVE VISUALIZATION</span></a>"
   ]
  },
  {
   "cell_type": "markdown",
   "metadata": {},
   "source": [
    "\n",
    "\n",
    "The parameters at a minimum point are obtained from calculus using Gradient Decent . \n",
    "Gradient Decent is really cool concept in the AI domain till now.\n",
    "\n",
    "Before diving into Gradient Descent , we need to have clear idea regarding partial derivative. \n",
    "\n",
    "#### Partial Derivative \n",
    "Partial derivative exist for function which have 2 or more variables.\n",
    "\n",
    "For function (SSE)  $\\text{SSE} =\\sum_{i=1}^{n}(y_{i}-(c+m_1x_i))^2$, there are two variables $m$ and $c$ . \n",
    "\n",
    "There can exist the derivative of $\\text{SSE}$ with respect to $m$ and $c$ .\n",
    "\n",
    "The derivative of $\\text{SSE}$ with respect to $m$ , while $c$ remaining constant is known as partial derivative of $\\text{SSE}$ with respect to   $m$. Denoted by : $\\frac{\\partial }{\\partial m }\\sum(y_i-(m*x_i+c))^2$\n",
    "\n",
    "Similarly , the derivative of $\\text{SSE}$ with respect to $c$ , while $m$ remaining\n",
    "constant is known as partial derivative of $\\text{SSE}$ with respect to   $c$. Denoted by : $\\frac{\\partial }{\\partial c }\\sum(y_i-(m*x_i+c))^2$\n",
    "\n",
    "\n",
    "Partial derivative of SSE with respect to m is \n",
    "    \n",
    "$\\frac{\\partial }{\\partial m }\\sum(y_i-(m *x_i+c))^2$    \n",
    "= $\\sum\\frac{\\partial }{\\partial m}(y_i-(m *x_i+ c ))^2 $   \n",
    "= $ \\sum2(y_i-(m *x_i + c ))(-x_i) $    \n",
    "\n",
    "Similarly , \n",
    "Partial derivative of SSE with respect to c is \n",
    "  \n",
    "$\\frac{\\partial }{\\partial c }\\sum(y_i-(m *x_i+c))^2$  \n",
    "= $\\sum\\frac{\\partial }{\\partial c}(y_i-(m *x_i+ c ))^2 $  \n",
    "= $ \\sum2(y_i-(m *x_i + c )) $  \n",
    "\n",
    "\n"
   ]
  },
  {
   "cell_type": "code",
   "execution_count": 2,
   "metadata": {},
   "outputs": [
    {
     "data": {
      "text/html": [
       "\n",
       "        <iframe\n",
       "            width=\"100%\"\n",
       "            height=\"400\"\n",
       "            src=\"https://rawcdn.githack.com/Aashishrimal/LinearRegression/e14c77a7d7465858c5a8c8ddbb87a680fe31a4fc/3d_surface_plot.html\"\n",
       "            frameborder=\"0\"\n",
       "            allowfullscreen\n",
       "            \n",
       "        ></iframe>\n",
       "        "
      ],
      "text/plain": [
       "<IPython.lib.display.IFrame at 0x7dd29babb550>"
      ]
     },
     "execution_count": 2,
     "metadata": {},
     "output_type": "execute_result"
    }
   ],
   "source": [
    "from IPython.display import IFrame\n",
    "url = 'https://rawcdn.githack.com/Aashishrimal/LinearRegression/e14c77a7d7465858c5a8c8ddbb87a680fe31a4fc/3d_surface_plot.html'\n",
    "IFrame(url, width='100%', height=400)"
   ]
  },
  {
   "cell_type": "markdown",
   "metadata": {},
   "source": [
    "\n",
    "### Gradient Descent \n",
    "\n",
    "Lets proceed into the working mechanism of gradient descent .\n",
    "\n",
    "Initially partial derivative is calculated at random initial values of m and c as $m_0$ and $c_0$ respectively .  \n",
    "i.e At    ($m_0$ , $c_0$)   \n",
    "\n",
    "$\\frac{\\partial }{\\partial m } SSE$ =$ \\sum2(y_i-(m_0*x_i + c_0))(-x_i)$  \n",
    "\n",
    "$\\frac{\\partial }{\\partial c } SSE$ = $ \\sum2(y_i-(m_0*x_i + c_0))$  \n",
    "\n",
    "There might exist better value of m and c which lead to lower value of SSE. \n",
    "\n",
    "Hence ,  the new values of $m$ and $c$ are evaluated by :\n",
    "\n",
    "$m_1$ = $m_0$ - learning_rate * $\\frac{\\partial }{\\partial m }SSE_at(m_0, c_0)$ \n",
    "\n",
    "$c_1$ = $c_0$ - learning_rate * $\\frac{\\partial }{\\partial c }SSE_at(m_0, c_0)$ \n",
    "\n",
    "Where , learning_rate is the multiplication  factor , which decides how fast we need to change the  value of m and c , to get into optimum value.\n",
    "\n",
    "In this way we calculate $(m_2 , c_2) , (m_3 , c_3) , .......... and so on .$.  \n",
    "This operation exist untill we get no significant change in value of SSE on changing the value of m and c . \n",
    "\n",
    "The  procedure mentioned above is known as gradient descent. \n",
    "\n",
    "******Here we need animation video of gradient descent tya bata tala line aayera m ra c ko value dekhina paryo ani tespachi tyo value of m and c uta plot huna paryo ..******\n",
    "\n",
    "\n"
   ]
  },
  {
   "cell_type": "markdown",
   "metadata": {
    "id": "CDt1753kIKtn"
   },
   "source": [
    "## Implementation on Real World Dataset\n",
    "\n",
    "Here is the link to dataset :  * https://drive.google.com/file/d/1xoZ51eaK-NfLfH_0L7UB6AtNlwba_Xdx/view?usp=sharing  \n",
    "This dataset has one input, height in cm, and one output, weight in kg.  \n",
    "\n",
    "\n",
    "    "
   ]
  },
  {
   "cell_type": "markdown",
   "metadata": {
    "id": "MuubnjzfJTJF"
   },
   "source": [
    "## Imports"
   ]
  },
  {
   "cell_type": "code",
   "execution_count": 2,
   "metadata": {
    "id": "UgpitlvHI0kc"
   },
   "outputs": [],
   "source": [
    "import numpy as np\n",
    "import pandas as pd\n",
    "import matplotlib as mp\n",
    "from matplotlib import pyplot as plt\n",
    "from sklearn.linear_model import LinearRegression\n",
    "from sklearn.metrics import mean_squared_error\n"
   ]
  },
  {
   "cell_type": "markdown",
   "metadata": {},
   "source": [
    "### Dataset"
   ]
  },
  {
   "cell_type": "code",
   "execution_count": 4,
   "metadata": {
    "colab": {
     "base_uri": "https://localhost:8080/",
     "height": 197
    },
    "id": "TJAn-h7EJtCc",
    "outputId": "0ceb3a29-9008-4068-f9b6-7afdff0a77fc"
   },
   "outputs": [
    {
     "data": {
      "text/html": [
       "<div>\n",
       "<style scoped>\n",
       "    .dataframe tbody tr th:only-of-type {\n",
       "        vertical-align: middle;\n",
       "    }\n",
       "\n",
       "    .dataframe tbody tr th {\n",
       "        vertical-align: top;\n",
       "    }\n",
       "\n",
       "    .dataframe thead th {\n",
       "        text-align: right;\n",
       "    }\n",
       "</style>\n",
       "<table border=\"1\" class=\"dataframe\">\n",
       "  <thead>\n",
       "    <tr style=\"text-align: right;\">\n",
       "      <th></th>\n",
       "      <th>Height</th>\n",
       "      <th>Weight</th>\n",
       "    </tr>\n",
       "  </thead>\n",
       "  <tbody>\n",
       "    <tr>\n",
       "      <th>0</th>\n",
       "      <td>182.928810</td>\n",
       "      <td>97.097585</td>\n",
       "    </tr>\n",
       "    <tr>\n",
       "      <th>1</th>\n",
       "      <td>192.911362</td>\n",
       "      <td>91.056023</td>\n",
       "    </tr>\n",
       "    <tr>\n",
       "      <th>2</th>\n",
       "      <td>186.165803</td>\n",
       "      <td>87.345558</td>\n",
       "    </tr>\n",
       "    <tr>\n",
       "      <th>3</th>\n",
       "      <td>182.692991</td>\n",
       "      <td>89.157395</td>\n",
       "    </tr>\n",
       "    <tr>\n",
       "      <th>4</th>\n",
       "      <td>175.419288</td>\n",
       "      <td>85.219482</td>\n",
       "    </tr>\n",
       "  </tbody>\n",
       "</table>\n",
       "</div>"
      ],
      "text/plain": [
       "       Height     Weight\n",
       "0  182.928810  97.097585\n",
       "1  192.911362  91.056023\n",
       "2  186.165803  87.345558\n",
       "3  182.692991  89.157395\n",
       "4  175.419288  85.219482"
      ]
     },
     "execution_count": 4,
     "metadata": {},
     "output_type": "execute_result"
    }
   ],
   "source": [
    "data_path = \"https://drive.google.com/uc?export=download&id=1xoZ51eaK-NfLfH_0L7UB6AtNlwba_Xdx\"\n",
    "# we can also download  the data and mention the directory within own computer as data path \n",
    "#data_path= \"https://github.com/Aashishrimal/LinearRegression/blob/main/height_weight.csv\"\n",
    "\n",
    "# Read the CSV data from the link\n",
    "data_frame = pd.read_csv(data_path)\n",
    "\n",
    "# Printfirst 5 samples from the DataFrame\n",
    "data_frame.head()"
   ]
  },
  {
   "cell_type": "markdown",
   "metadata": {},
   "source": [
    "### Training Simple Linear Regression "
   ]
  },
  {
   "cell_type": "code",
   "execution_count": 3,
   "metadata": {},
   "outputs": [
    {
     "name": "stdout",
     "output_type": "stream",
     "text": [
      "Trained slope (m) : [0.46349633]\n",
      "Trained intercept (C): 6.010259748648124\n",
      "Mean Squared Error: 22.826601317067553\n"
     ]
    }
   ],
   "source": [
    "\n",
    "# Extract X and y\n",
    "\n",
    "X = data_frame.iloc[:, 0].values.reshape(-1, 1)  # Select the first column (X)\n",
    "y = data_frame.iloc[:, 1]  # Select the second column (y)\n",
    "\n",
    "# Initialize Linear Regression model\n",
    "model = LinearRegression()\n",
    "\n",
    "# Fit the model\n",
    "model.fit(X, y)\n",
    "\n",
    "# Print trained parameters\n",
    "print(\"Trained slope (m) :\", model.coef_)\n",
    "print(\"Trained intercept (C):\", model.intercept_)\n",
    "\n",
    "# Make predictions\n",
    "y_pred = model.predict(X)\n",
    "\n",
    "# Calculate Mean Squared Error  \n",
    "# Mean Squared Error = SSE / n ( n is the number of sample data )\n",
    "mse = mean_squared_error(y, y_pred)\n",
    "print(\"Mean Squared Error:\", mse)  \n",
    "\n"
   ]
  },
  {
   "cell_type": "markdown",
   "metadata": {},
   "source": [
    "### Visualization "
   ]
  },
  {
   "cell_type": "code",
   "execution_count": 4,
   "metadata": {},
   "outputs": [
    {
     "data": {
      "image/png": "[encoded data removed]",
      "text/plain": [
       "<Figure size 640x480 with 1 Axes>"
      ]
     },
     "metadata": {},
     "output_type": "display_data"
    }
   ],
   "source": [
    "\n",
    "# Plot the data and the linear regression line\n",
    "\n",
    "plt.scatter(X, y, color='blue', label='Data')\n",
    "plt.plot(X, y_pred, color='red', label='Linear Regression')\n",
    "plt.xlabel('Height in cm ')\n",
    "plt.ylabel('Weight in kg  ')\n",
    "plt.title('Linear Regression Fit: Height vs Weight ')\n",
    "plt.legend()\n",
    "plt.show()"
   ]
  },
  {
   "cell_type": "markdown",
   "metadata": {
    "id": "VucR9RU9xMrY"
   },
   "source": [
    "### Predict for a query . "
   ]
  },
  {
   "cell_type": "code",
   "execution_count": 7,
   "metadata": {},
   "outputs": [
    {
     "name": "stdout",
     "output_type": "stream",
     "text": [
      "Predicted weight for given height is : [87.12211777] kg \n"
     ]
    }
   ],
   "source": [
    "predicted_value = model.predict([[175]])  # we can change the value to get the prediction \n",
    "print(\"Predicted weight for given height is :\", predicteder_value, 'kg ' ) "
   ]
  },
  {
   "cell_type": "code",
   "execution_count": null,
   "metadata": {},
   "outputs": [],
   "source": []
  }
 ],
 "metadata": {
  "colab": {
   "collapsed_sections": [],
   "name": "Read 1 : 1.1 OLS_Simple Linear Regression.ipynb",
   "provenance": []
  },
  "kernelspec": {
   "display_name": "Python 3 (ipykernel)",
   "language": "python",
   "name": "python3"
  },
  "language_info": {
   "codemirror_mode": {
    "name": "ipython",
    "version": 3
   },
   "file_extension": ".py",
   "mimetype": "text/x-python",
   "name": "python",
   "nbconvert_exporter": "python",
   "pygments_lexer": "ipython3",
   "version": "3.10.12"
  }
 },
 "nbformat": 4,
 "nbformat_minor": 4
}
